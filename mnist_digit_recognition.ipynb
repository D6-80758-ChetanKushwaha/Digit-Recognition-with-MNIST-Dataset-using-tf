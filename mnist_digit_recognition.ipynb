{
  "nbformat": 4,
  "nbformat_minor": 0,
  "metadata": {
    "colab": {
      "provenance": []
    },
    "kernelspec": {
      "name": "python3",
      "display_name": "Python 3"
    },
    "language_info": {
      "name": "python"
    }
  },
  "cells": [
    {
      "cell_type": "code",
      "execution_count": 21,
      "metadata": {
        "colab": {
          "base_uri": "https://localhost:8080/",
          "height": 35
        },
        "id": "9Dk2NNvMGEwD",
        "outputId": "dab78a8b-f052-41ae-ebef-0a59ce9ef1c0"
      },
      "outputs": [
        {
          "output_type": "execute_result",
          "data": {
            "text/plain": [
              "'2.12.0'"
            ],
            "application/vnd.google.colaboratory.intrinsic+json": {
              "type": "string"
            }
          },
          "metadata": {},
          "execution_count": 21
        }
      ],
      "source": [
        "# Checking Version of Tensorflow ...\n",
        "# importing various libraries like matplotlib for data visualization and numpy for numerical computations\n",
        "import tensorflow as tf\n",
        "import matplotlib.pyplot as plt\n",
        "import numpy as np\n",
        "tf.__version__"
      ]
    },
    {
      "cell_type": "code",
      "source": [
        "# using Mnist dataset with comes with tensorflow..\n",
        "(x_train, y_train), (x_test, y_test) = tf.keras.datasets.mnist.load_data()\n",
        "print(len(x_train), len(x_test))"
      ],
      "metadata": {
        "colab": {
          "base_uri": "https://localhost:8080/"
        },
        "id": "WxfE2qXaPP1Y",
        "outputId": "40f7ea51-2607-44d9-bc2f-eb26d6740958"
      },
      "execution_count": 22,
      "outputs": [
        {
          "output_type": "stream",
          "name": "stdout",
          "text": [
            "60000 10000\n"
          ]
        }
      ]
    },
    {
      "cell_type": "code",
      "source": [
        "#printing shape of x_train and y_train\n",
        "print(x_train.shape, y_train.shape)"
      ],
      "metadata": {
        "colab": {
          "base_uri": "https://localhost:8080/"
        },
        "id": "mOaYytS4SAoH",
        "outputId": "e3b5cd57-c288-471d-936a-bf8b91577380"
      },
      "execution_count": 23,
      "outputs": [
        {
          "output_type": "stream",
          "name": "stdout",
          "text": [
            "(60000, 28, 28) (60000,)\n"
          ]
        }
      ]
    },
    {
      "cell_type": "code",
      "source": [
        "#here created the universal funtion for showing data\n",
        "def display(data):\n",
        "  fig, axes = plt.subplots(3, 3, figsize=(4, 4))\n",
        "  axes = axes.flatten()\n",
        "  for i in range(9):\n",
        "      axes[i].imshow(data[i])\n",
        "      axes[i].axis('off')\n",
        "\n",
        "  plt.tight_layout()\n",
        "  plt.show()\n",
        "\n",
        "display(x_train)"
      ],
      "metadata": {
        "id": "36fwJvSnSplJ",
        "colab": {
          "base_uri": "https://localhost:8080/",
          "height": 407
        },
        "outputId": "5e8a6ba6-edbc-42bd-e939-94ee3aa4fd9d"
      },
      "execution_count": 24,
      "outputs": [
        {
          "output_type": "display_data",
          "data": {
            "text/plain": [
              "<Figure size 400x400 with 9 Axes>"
            ],
            "image/png": "[encoded data removed]"
          },
          "metadata": {}
        }
      ]
    },
    {
      "cell_type": "code",
      "source": [
        "# This is preprocessing pipeline\n",
        "print(x_train.shape)\n",
        "# Normalize the pixel values between 0 and 1\n",
        "x_train = x_train.astype(\"float32\") / 255.0\n",
        "x_test = x_test.astype(\"float32\") / 255.0\n",
        "\n",
        "# Reshape the input data to include the channel dimension (for CNN)\n",
        "x_train = np.expand_dims(x_train, -1)\n",
        "x_test = np.expand_dims(x_test, -1)\n",
        "\n",
        "# Convert the labels to categorical format since we are using softmax activation\n",
        "y_train = tf.keras.utils.to_categorical(y_train, num_classes=10)\n",
        "y_test = tf.keras.utils.to_categorical(y_test, num_classes=10)\n",
        "\n",
        "\n",
        "print(y_train.shape)"
      ],
      "metadata": {
        "colab": {
          "base_uri": "https://localhost:8080/"
        },
        "id": "qRtg1J4Rh8AG",
        "outputId": "d9392fa2-b390-46f5-a5eb-ba0c7b2898f7"
      },
      "execution_count": 25,
      "outputs": [
        {
          "output_type": "stream",
          "name": "stdout",
          "text": [
            "(60000, 28, 28)\n",
            "(60000, 10)\n"
          ]
        }
      ]
    },
    {
      "cell_type": "code",
      "source": [
        "def create_model():\n",
        "  model = tf.keras.Sequential([\n",
        "    tf.keras.layers.Conv2D(32, kernel_size=(3, 3), activation=\"relu\", input_shape=(28, 28, 1)),\n",
        "    tf.keras.layers.MaxPooling2D(pool_size=(2, 2)),\n",
        "    tf.keras.layers.Flatten(),\n",
        "    tf.keras.layers.Dense(128, activation=\"relu\"),\n",
        "    tf.keras.layers.Dense(10, activation=\"softmax\")\n",
        "  ])\n",
        "  return model\n",
        "\n",
        "model = create_model() # creating the model..\n",
        "\n",
        "model.compile(loss=\"categorical_crossentropy\", optimizer=\"adam\", metrics=[\"accuracy\"])  # adam optimizer is a adaptive gradient descent technique..\n",
        "# Training the model...\n",
        "model.fit(x_train, y_train, batch_size=128, epochs=5, validation_split=0.1) # This is basically a mini batch gradient discent..\n"
      ],
      "metadata": {
        "colab": {
          "base_uri": "https://localhost:8080/"
        },
        "id": "yo2uXAqvmHkf",
        "outputId": "af8c6334-247f-4db4-bf17-fd72c254c146"
      },
      "execution_count": 26,
      "outputs": [
        {
          "output_type": "stream",
          "name": "stdout",
          "text": [
            "Epoch 1/5\n",
            "422/422 [==============================] - 50s 116ms/step - loss: 0.2378 - accuracy: 0.9343 - val_loss: 0.0810 - val_accuracy: 0.9783\n",
            "Epoch 2/5\n",
            "422/422 [==============================] - 32s 76ms/step - loss: 0.0723 - accuracy: 0.9785 - val_loss: 0.0571 - val_accuracy: 0.9848\n",
            "Epoch 3/5\n",
            "422/422 [==============================] - 31s 74ms/step - loss: 0.0477 - accuracy: 0.9855 - val_loss: 0.0553 - val_accuracy: 0.9848\n",
            "Epoch 4/5\n",
            "422/422 [==============================] - 33s 77ms/step - loss: 0.0339 - accuracy: 0.9896 - val_loss: 0.0519 - val_accuracy: 0.9877\n",
            "Epoch 5/5\n",
            "422/422 [==============================] - 31s 75ms/step - loss: 0.0263 - accuracy: 0.9924 - val_loss: 0.0511 - val_accuracy: 0.9862\n"
          ]
        },
        {
          "output_type": "execute_result",
          "data": {
            "text/plain": [
              "<keras.callbacks.History at 0x7f06892bc580>"
            ]
          },
          "metadata": {},
          "execution_count": 26
        }
      ]
    },
    {
      "cell_type": "code",
      "source": [
        "# getting test loss and accuracy\n",
        "test_loss, test_accuracy = model.evaluate(x_test, y_test)\n",
        "print(f\"Test Loss: {test_loss:.4f}\")\n",
        "print(f\"Test Accuracy: {test_accuracy:.4f}\")"
      ],
      "metadata": {
        "colab": {
          "base_uri": "https://localhost:8080/"
        },
        "id": "wdqo7afspQ-z",
        "outputId": "c8eea7d8-8a4f-4e29-80ce-43c8f00e6bc2"
      },
      "execution_count": 27,
      "outputs": [
        {
          "output_type": "stream",
          "name": "stdout",
          "text": [
            "313/313 [==============================] - 3s 9ms/step - loss: 0.0485 - accuracy: 0.9842\n",
            "Test Loss: 0.0485\n",
            "Test Accuracy: 0.9842\n"
          ]
        }
      ]
    },
    {
      "cell_type": "code",
      "source": [
        "# Here is predictions\n",
        "y_pred = model.predict(x_test)\n",
        "print(y_pred.shape)\n",
        "y_pred_classes = np.argmax(y_pred, axis=1)\n",
        "y_true_classes = np.argmax(y_test, axis=1)\n",
        "\n",
        "# Classification report\n",
        "from sklearn.metrics import classification_report, confusion_matrix\n",
        "classification_metrics = classification_report(y_true_classes, y_pred_classes)\n",
        "print(\"Classification Report:\")\n",
        "print(classification_metrics)\n",
        "\n",
        "# Confusion matrix\n",
        "confusion_mat = confusion_matrix(y_true_classes, y_pred_classes)\n",
        "print(\"Confusion Matrix:\")\n",
        "print(confusion_mat)\n",
        "\n",
        "# Visualize a random sample of predictions\n",
        "sample_indices = np.random.choice(len(x_test), size=9, replace=False)\n",
        "sample_images = x_test[sample_indices]\n",
        "sample_labels_true = y_true_classes[sample_indices]\n",
        "sample_labels_pred = y_pred_classes[sample_indices]\n",
        "\n",
        "plt.figure(figsize=(5, 5))\n",
        "for i in range(9):\n",
        "    plt.subplot(3, 3, i + 1)\n",
        "    plt.imshow(sample_images[i].reshape(28, 28), cmap=\"gray\")\n",
        "    plt.title(f\"True: {sample_labels_true[i]}, Pred: {sample_labels_pred[i]}\")\n",
        "    plt.axis(\"off\")\n",
        "plt.tight_layout()\n",
        "plt.show()"
      ],
      "metadata": {
        "colab": {
          "base_uri": "https://localhost:8080/",
          "height": 1000
        },
        "id": "xiLZ3WhOvfEA",
        "outputId": "c4675b43-735e-4e09-fb0d-f9ae2a4ad049"
      },
      "execution_count": 28,
      "outputs": [
        {
          "output_type": "stream",
          "name": "stdout",
          "text": [
            "313/313 [==============================] - 3s 9ms/step\n",
            "(10000, 10)\n",
            "Classification Report:\n",
            "              precision    recall  f1-score   support\n",
            "\n",
            "           0       0.99      1.00      0.99       980\n",
            "           1       0.98      1.00      0.99      1135\n",
            "           2       0.99      0.97      0.98      1032\n",
            "           3       0.99      0.98      0.99      1010\n",
            "           4       0.96      1.00      0.98       982\n",
            "           5       0.98      0.99      0.99       892\n",
            "           6       0.99      0.99      0.99       958\n",
            "           7       0.98      0.98      0.98      1028\n",
            "           8       0.99      0.98      0.98       974\n",
            "           9       0.99      0.96      0.97      1009\n",
            "\n",
            "    accuracy                           0.98     10000\n",
            "   macro avg       0.98      0.98      0.98     10000\n",
            "weighted avg       0.98      0.98      0.98     10000\n",
            "\n",
            "Confusion Matrix:\n",
            "[[ 976    1    0    0    0    1    1    1    0    0]\n",
            " [   0 1132    1    1    0    0    1    0    0    0]\n",
            " [   2    8 1000    2    3    1    1   10    3    2]\n",
            " [   1    0    1  993    0    5    1    4    5    0]\n",
            " [   0    0    0    0  982    0    0    0    0    0]\n",
            " [   1    0    0    3    0  885    3    0    0    0]\n",
            " [   4    2    0    0    4    2  945    0    1    0]\n",
            " [   0    6    2    2    4    0    0 1009    1    4]\n",
            " [   4    0    2    2    5    2    1    2  953    3]\n",
            " [   2    3    0    1   20    7    0    6    3  967]]\n"
          ]
        },
        {
          "output_type": "display_data",
          "data": {
            "text/plain": [
              "<Figure size 500x500 with 9 Axes>"
            ],
            "image/png": "[encoded data removed]"
          },
          "metadata": {}
        }
      ]
    },
    {
      "cell_type": "code",
      "source": [],
      "metadata": {
        "id": "clTc0-WYyiEd"
      },
      "execution_count": 29,
      "outputs": []
    },
    {
      "cell_type": "code",
      "source": [],
      "metadata": {
        "id": "yt_yg-xB4oDz"
      },
      "execution_count": null,
      "outputs": []
    }
  ]
}